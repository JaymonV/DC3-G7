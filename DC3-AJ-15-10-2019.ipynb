{
 "cells": [
  {
   "cell_type": "code",
   "execution_count": 5,
   "metadata": {},
   "outputs": [],
   "source": [
    "import pandas as pd\n",
    "import shapefile\n",
    "import geopandas as gpd\n",
    "from matplotlib import pyplot as plt\n",
    "import seaborn as sns\n",
    "import datetime\n",
    "from shapely.geometry import Polygon\n",
    "import numpy as np"
   ]
  },
  {
   "cell_type": "code",
   "execution_count": 6,
   "metadata": {},
   "outputs": [
    {
     "data": {
      "text/html": [
       "<div>\n",
       "<style scoped>\n",
       "    .dataframe tbody tr th:only-of-type {\n",
       "        vertical-align: middle;\n",
       "    }\n",
       "\n",
       "    .dataframe tbody tr th {\n",
       "        vertical-align: top;\n",
       "    }\n",
       "\n",
       "    .dataframe thead th {\n",
       "        text-align: right;\n",
       "    }\n",
       "</style>\n",
       "<table border=\"1\" class=\"dataframe\">\n",
       "  <thead>\n",
       "    <tr style=\"text-align: right;\">\n",
       "      <th></th>\n",
       "      <th>RGDIDENT</th>\n",
       "      <th>TYPRGD</th>\n",
       "      <th>NAAMRGD</th>\n",
       "      <th>RGDID</th>\n",
       "      <th>GEOMETRIE_</th>\n",
       "      <th>GEOMETRIE1</th>\n",
       "      <th>geometry</th>\n",
       "    </tr>\n",
       "  </thead>\n",
       "  <tbody>\n",
       "    <tr>\n",
       "      <th>0</th>\n",
       "      <td>CUI-CUI-BEI</td>\n",
       "      <td>1</td>\n",
       "      <td>Beijerd en 't Riet</td>\n",
       "      <td>316</td>\n",
       "      <td>0.0</td>\n",
       "      <td>0.0</td>\n",
       "      <td>POLYGON ((5.871789942952855 51.73142778398143,...</td>\n",
       "    </tr>\n",
       "    <tr>\n",
       "      <th>1</th>\n",
       "      <td>HEL-HEL-AKI</td>\n",
       "      <td>2</td>\n",
       "      <td>30. Akkers I</td>\n",
       "      <td>792</td>\n",
       "      <td>0.0</td>\n",
       "      <td>0.0</td>\n",
       "      <td>POLYGON ((5.639777930999652 51.45550664890908,...</td>\n",
       "    </tr>\n",
       "    <tr>\n",
       "      <th>2</th>\n",
       "      <td>HER-ROS-OVE</td>\n",
       "      <td>1</td>\n",
       "      <td>gebied E; Overlaet E</td>\n",
       "      <td>97</td>\n",
       "      <td>0.0</td>\n",
       "      <td>0.0</td>\n",
       "      <td>POLYGON ((5.369862763101162 51.72400915103489,...</td>\n",
       "    </tr>\n",
       "    <tr>\n",
       "      <th>3</th>\n",
       "      <td>HER-HER-ORP</td>\n",
       "      <td>1</td>\n",
       "      <td>Geb. 8 Orthenpoort</td>\n",
       "      <td>539</td>\n",
       "      <td>0.0</td>\n",
       "      <td>0.0</td>\n",
       "      <td>POLYGON ((5.303665672444452 51.69769499520089,...</td>\n",
       "    </tr>\n",
       "    <tr>\n",
       "      <th>4</th>\n",
       "      <td>HER-BRA-BRA</td>\n",
       "      <td>2</td>\n",
       "      <td>de Brand</td>\n",
       "      <td>770</td>\n",
       "      <td>0.0</td>\n",
       "      <td>0.0</td>\n",
       "      <td>POLYGON ((5.366968395013955 51.6833809916705, ...</td>\n",
       "    </tr>\n",
       "  </tbody>\n",
       "</table>\n",
       "</div>"
      ],
      "text/plain": [
       "      RGDIDENT  TYPRGD               NAAMRGD  RGDID  GEOMETRIE_  GEOMETRIE1  \\\n",
       "0  CUI-CUI-BEI       1    Beijerd en 't Riet    316         0.0         0.0   \n",
       "1  HEL-HEL-AKI       2          30. Akkers I    792         0.0         0.0   \n",
       "2  HER-ROS-OVE       1  gebied E; Overlaet E     97         0.0         0.0   \n",
       "3  HER-HER-ORP       1    Geb. 8 Orthenpoort    539         0.0         0.0   \n",
       "4  HER-BRA-BRA       2              de Brand    770         0.0         0.0   \n",
       "\n",
       "                                            geometry  \n",
       "0  POLYGON ((5.871789942952855 51.73142778398143,...  \n",
       "1  POLYGON ((5.639777930999652 51.45550664890908,...  \n",
       "2  POLYGON ((5.369862763101162 51.72400915103489,...  \n",
       "3  POLYGON ((5.303665672444452 51.69769499520089,...  \n",
       "4  POLYGON ((5.366968395013955 51.6833809916705, ...  "
      ]
     },
     "execution_count": 6,
     "metadata": {},
     "output_type": "execute_result"
    }
   ],
   "source": [
    "leidingtrace=gpd.read_file(\"C:/Users/20172648/Desktop/aa-en-maas_sewer_shp_WGS84/Leidingtrace_WGS84.shp\")\n",
    "Rioleringsdeelgebied=gpd.read_file(\"C:/Users/20172648/Desktop/aa-en-maas_sewer_shp_WGS84/Rioleringsdeelgebied_WGS84.shp\")\n",
    "Rioolgemaal=gpd.read_file(\"C:/Users/20172648/Desktop/aa-en-maas_sewer_shp_WGS84/Rioolgemaal_WGS84.shp\")\n",
    "RWZI=gpd.read_file(\"C:/Users/20172648/Desktop/aa-en-maas_sewer_shp_WGS84/RWZI_WGS84.shp\")\n",
    "Zuiveringsregio=gpd.read_file(\"C:/Users/20172648/Desktop/aa-en-maas_sewer_shp_WGS84/Zuiveringsregio_WGS84.shp\")\n",
    "\n",
    "Rioleringsdeelgebied.head()"
   ]
  },
  {
   "cell_type": "code",
   "execution_count": 7,
   "metadata": {
    "scrolled": true
   },
   "outputs": [
    {
     "data": {
      "text/html": [
       "<div>\n",
       "<style scoped>\n",
       "    .dataframe tbody tr th:only-of-type {\n",
       "        vertical-align: middle;\n",
       "    }\n",
       "\n",
       "    .dataframe tbody tr th {\n",
       "        vertical-align: top;\n",
       "    }\n",
       "\n",
       "    .dataframe thead th {\n",
       "        text-align: right;\n",
       "    }\n",
       "</style>\n",
       "<table border=\"1\" class=\"dataframe\">\n",
       "  <thead>\n",
       "    <tr style=\"text-align: right;\">\n",
       "      <th></th>\n",
       "      <th>RGDIDENT</th>\n",
       "      <th>TYPRGD</th>\n",
       "      <th>NAAMRGD</th>\n",
       "      <th>RGDID</th>\n",
       "      <th>GEOMETRIE_</th>\n",
       "      <th>GEOMETRIE1</th>\n",
       "      <th>geometry</th>\n",
       "    </tr>\n",
       "  </thead>\n",
       "  <tbody>\n",
       "    <tr>\n",
       "      <th>3</th>\n",
       "      <td>HER-HER-ORP</td>\n",
       "      <td>1</td>\n",
       "      <td>Geb. 8 Orthenpoort</td>\n",
       "      <td>539</td>\n",
       "      <td>0.0</td>\n",
       "      <td>0.0</td>\n",
       "      <td>POLYGON ((5.303665672444452 51.69769499520089,...</td>\n",
       "    </tr>\n",
       "    <tr>\n",
       "      <th>9</th>\n",
       "      <td>HER-HER-TOL</td>\n",
       "      <td>1</td>\n",
       "      <td>geb. 6c Carolushof</td>\n",
       "      <td>543</td>\n",
       "      <td>0.0</td>\n",
       "      <td>0.0</td>\n",
       "      <td>POLYGON ((5.305530586673107 51.69227701994136,...</td>\n",
       "    </tr>\n",
       "    <tr>\n",
       "      <th>16</th>\n",
       "      <td>HEU-DRU-WAR</td>\n",
       "      <td>3</td>\n",
       "      <td>Wartsila</td>\n",
       "      <td>297</td>\n",
       "      <td>0.0</td>\n",
       "      <td>0.0</td>\n",
       "      <td>POLYGON ((5.153577043237233 51.69637533371871,...</td>\n",
       "    </tr>\n",
       "    <tr>\n",
       "      <th>27</th>\n",
       "      <td>HER-HER-SVL</td>\n",
       "      <td>2</td>\n",
       "      <td>Sportpark de Vliert(Sportiom)</td>\n",
       "      <td>533</td>\n",
       "      <td>0.0</td>\n",
       "      <td>0.0</td>\n",
       "      <td>POLYGON ((5.336644695444306 51.70478719903669,...</td>\n",
       "    </tr>\n",
       "    <tr>\n",
       "      <th>31</th>\n",
       "      <td>HER-HER-VUG</td>\n",
       "      <td>1</td>\n",
       "      <td>Geb. 12 Vughterpoort</td>\n",
       "      <td>548</td>\n",
       "      <td>0.0</td>\n",
       "      <td>0.0</td>\n",
       "      <td>POLYGON ((5.293400572151596 51.67667953896254,...</td>\n",
       "    </tr>\n",
       "  </tbody>\n",
       "</table>\n",
       "</div>"
      ],
      "text/plain": [
       "       RGDIDENT  TYPRGD                        NAAMRGD  RGDID  GEOMETRIE_  \\\n",
       "3   HER-HER-ORP       1             Geb. 8 Orthenpoort    539         0.0   \n",
       "9   HER-HER-TOL       1             geb. 6c Carolushof    543         0.0   \n",
       "16  HEU-DRU-WAR       3                       Wartsila    297         0.0   \n",
       "27  HER-HER-SVL       2  Sportpark de Vliert(Sportiom)    533         0.0   \n",
       "31  HER-HER-VUG       1           Geb. 12 Vughterpoort    548         0.0   \n",
       "\n",
       "    GEOMETRIE1                                           geometry  \n",
       "3          0.0  POLYGON ((5.303665672444452 51.69769499520089,...  \n",
       "9          0.0  POLYGON ((5.305530586673107 51.69227701994136,...  \n",
       "16         0.0  POLYGON ((5.153577043237233 51.69637533371871,...  \n",
       "27         0.0  POLYGON ((5.336644695444306 51.70478719903669,...  \n",
       "31         0.0  POLYGON ((5.293400572151596 51.67667953896254,...  "
      ]
     },
     "execution_count": 7,
     "metadata": {},
     "output_type": "execute_result"
    }
   ],
   "source": [
    "rio_db = pd.read_excel(\"C:/Users/20172648/Desktop/sewer_model/20180717_dump riodat rioleringsdeelgebieden_DB.xlsx\", skiprows=9)\n",
    "list_codes = rio_db['Code'].tolist()\n",
    "rio_db.head()\n",
    "# Made a list of the Rioleeringsdeelgebieden we should consider\n",
    "select_deelgebied = Rioleringsdeelgebied[pd.DataFrame(Rioleringsdeelgebied['RGDIDENT']).isin(list_codes).any(1)]\n",
    "#selected those areas in our shapefile rioleeringsdeelgebieden with the list from rioleeringsdeelgebied.db\n",
    "select_deelgebied.head()"
   ]
  },
  {
   "cell_type": "code",
   "execution_count": 8,
   "metadata": {},
   "outputs": [
    {
     "data": {
      "text/html": [
       "<div>\n",
       "<style scoped>\n",
       "    .dataframe tbody tr th:only-of-type {\n",
       "        vertical-align: middle;\n",
       "    }\n",
       "\n",
       "    .dataframe tbody tr th {\n",
       "        vertical-align: top;\n",
       "    }\n",
       "\n",
       "    .dataframe thead th {\n",
       "        text-align: right;\n",
       "    }\n",
       "</style>\n",
       "<table border=\"1\" class=\"dataframe\">\n",
       "  <thead>\n",
       "    <tr style=\"text-align: right;\">\n",
       "      <th></th>\n",
       "      <th>RGDIDENT</th>\n",
       "      <th>TYPRGD</th>\n",
       "      <th>NAAMRGD</th>\n",
       "      <th>RGDID</th>\n",
       "      <th>GEOMETRIE_</th>\n",
       "      <th>GEOMETRIE1</th>\n",
       "      <th>geometry</th>\n",
       "      <th>x</th>\n",
       "      <th>y</th>\n",
       "    </tr>\n",
       "  </thead>\n",
       "  <tbody>\n",
       "    <tr>\n",
       "      <th>3</th>\n",
       "      <td>HER-HER-ORP</td>\n",
       "      <td>1</td>\n",
       "      <td>Geb. 8 Orthenpoort</td>\n",
       "      <td>539</td>\n",
       "      <td>0.0</td>\n",
       "      <td>0.0</td>\n",
       "      <td>POLYGON ((5.303665672444452 51.69769499520089,...</td>\n",
       "      <td>5.301593</td>\n",
       "      <td>51.699136</td>\n",
       "    </tr>\n",
       "    <tr>\n",
       "      <th>9</th>\n",
       "      <td>HER-HER-TOL</td>\n",
       "      <td>1</td>\n",
       "      <td>geb. 6c Carolushof</td>\n",
       "      <td>543</td>\n",
       "      <td>0.0</td>\n",
       "      <td>0.0</td>\n",
       "      <td>POLYGON ((5.305530586673107 51.69227701994136,...</td>\n",
       "      <td>5.303842</td>\n",
       "      <td>51.692047</td>\n",
       "    </tr>\n",
       "    <tr>\n",
       "      <th>16</th>\n",
       "      <td>HEU-DRU-WAR</td>\n",
       "      <td>3</td>\n",
       "      <td>Wartsila</td>\n",
       "      <td>297</td>\n",
       "      <td>0.0</td>\n",
       "      <td>0.0</td>\n",
       "      <td>POLYGON ((5.153577043237233 51.69637533371871,...</td>\n",
       "      <td>5.150843</td>\n",
       "      <td>51.694462</td>\n",
       "    </tr>\n",
       "    <tr>\n",
       "      <th>27</th>\n",
       "      <td>HER-HER-SVL</td>\n",
       "      <td>2</td>\n",
       "      <td>Sportpark de Vliert(Sportiom)</td>\n",
       "      <td>533</td>\n",
       "      <td>0.0</td>\n",
       "      <td>0.0</td>\n",
       "      <td>POLYGON ((5.336644695444306 51.70478719903669,...</td>\n",
       "      <td>5.329350</td>\n",
       "      <td>51.701318</td>\n",
       "    </tr>\n",
       "    <tr>\n",
       "      <th>31</th>\n",
       "      <td>HER-HER-VUG</td>\n",
       "      <td>1</td>\n",
       "      <td>Geb. 12 Vughterpoort</td>\n",
       "      <td>548</td>\n",
       "      <td>0.0</td>\n",
       "      <td>0.0</td>\n",
       "      <td>POLYGON ((5.293400572151597 51.67667953896254,...</td>\n",
       "      <td>5.292908</td>\n",
       "      <td>51.679716</td>\n",
       "    </tr>\n",
       "  </tbody>\n",
       "</table>\n",
       "</div>"
      ],
      "text/plain": [
       "       RGDIDENT  TYPRGD                        NAAMRGD  RGDID  GEOMETRIE_  \\\n",
       "3   HER-HER-ORP       1             Geb. 8 Orthenpoort    539         0.0   \n",
       "9   HER-HER-TOL       1             geb. 6c Carolushof    543         0.0   \n",
       "16  HEU-DRU-WAR       3                       Wartsila    297         0.0   \n",
       "27  HER-HER-SVL       2  Sportpark de Vliert(Sportiom)    533         0.0   \n",
       "31  HER-HER-VUG       1           Geb. 12 Vughterpoort    548         0.0   \n",
       "\n",
       "    GEOMETRIE1                                           geometry         x  \\\n",
       "3          0.0  POLYGON ((5.303665672444452 51.69769499520089,...  5.301593   \n",
       "9          0.0  POLYGON ((5.305530586673107 51.69227701994136,...  5.303842   \n",
       "16         0.0  POLYGON ((5.153577043237233 51.69637533371871,...  5.150843   \n",
       "27         0.0  POLYGON ((5.336644695444306 51.70478719903669,...  5.329350   \n",
       "31         0.0  POLYGON ((5.293400572151597 51.67667953896254,...  5.292908   \n",
       "\n",
       "            y  \n",
       "3   51.699136  \n",
       "9   51.692047  \n",
       "16  51.694462  \n",
       "27  51.701318  \n",
       "31  51.679716  "
      ]
     },
     "execution_count": 8,
     "metadata": {},
     "output_type": "execute_result"
    }
   ],
   "source": [
    "import pandas as pd\n",
    "import geopandas as gpd\n",
    "from matplotlib import pyplot as plt\n",
    "import seaborn as sns\n",
    "gdf = select_deelgebied\n",
    "#gdf = gdf.to_crs({'init': 'epsg:28992'})\n",
    "gdf = gdf.to_crs({'init': 'epsg:4326'})\n",
    "\n",
    "gdf['x'] = gdf.centroid.x\n",
    "gdf['y'] = gdf.centroid.y\n",
    "gdf.head()\n",
    "#Made the coordinates readable and plotted the shapefile\n",
    "#gdf['geometry'][3]"
   ]
  },
  {
   "cell_type": "markdown",
   "metadata": {},
   "source": [
    "## Now we make a grid equal the size of a cell in the .asc files"
   ]
  },
  {
   "cell_type": "code",
   "execution_count": 9,
   "metadata": {},
   "outputs": [
    {
     "data": {
      "text/plain": [
       "<matplotlib.axes._subplots.AxesSubplot at 0x1b897c598d0>"
      ]
     },
     "execution_count": 9,
     "metadata": {},
     "output_type": "execute_result"
    },
    {
     "data": {
      "image/png": "[encoded data removed]",
      "text/plain": [
       "<Figure size 432x288 with 1 Axes>"
      ]
     },
     "metadata": {
      "needs_background": "light"
     },
     "output_type": "display_data"
    }
   ],
   "source": [
    "import geopandas as gpd\n",
    "from shapely.geometry import Polygon\n",
    "import numpy as np\n",
    "points = gdf\n",
    "\n",
    "xmin,ymin,xmax,ymax = points['geometry'].total_bounds\n",
    "# length and wide are equal to the size of a grid box in the 2d array of the KNMI data.\n",
    "length = 0.023000000000\n",
    "wide = 0.037000000000\n",
    "# start is min int, end max int and step is wide/length (floats here)\n",
    "cols = list(np.arange(float(5.0505), float(5.3465), wide)) \n",
    "rows = list(np.arange(float(51.6335), float(51.7485), length))\n",
    "rows.reverse() # just reverses rows\n",
    "#Added numbers here to make sure the lines and grids coincide with actual latitude/longitude lines\n",
    "polygons = []\n",
    "for x in cols:\n",
    "    for y in rows:\n",
    "        polygons.append(Polygon([(x,y), (x+wide, y), (x+wide, y-length), (x, y-length)]))\n",
    "\n",
    "grid = gpd.GeoDataFrame({'geometry':polygons})\n",
    "grid.to_file(\"grid_coordinates_moved.shp\")\n",
    "r = gpd.read_file(\"grid_coordinates_moved.shp\")\n",
    "#r = r.to_crs({'init': 'epsg:4326'})\n",
    "\n",
    "r.boundary.plot(alpha=0.5)"
   ]
  },
  {
   "cell_type": "code",
   "execution_count": 10,
   "metadata": {
    "scrolled": true
   },
   "outputs": [
    {
     "name": "stdout",
     "output_type": "stream",
     "text": [
      "Populating the interactive namespace from numpy and matplotlib\n"
     ]
    },
    {
     "name": "stderr",
     "output_type": "stream",
     "text": [
      "C:\\Users\\20172648\\AppData\\Local\\conda\\conda\\envs\\my_root\\lib\\site-packages\\IPython\\core\\magics\\pylab.py:160: UserWarning: pylab import has clobbered these variables: ['Polygon', 'grid']\n",
      "`%matplotlib` prevents importing * from pylab and numpy\n",
      "  \"\\n`%matplotlib` prevents importing * from pylab and numpy\"\n"
     ]
    },
    {
     "data": {
      "image/png": "[encoded data removed]",
      "text/plain": [
       "<Figure size 432x288 with 1 Axes>"
      ]
     },
     "metadata": {
      "needs_background": "light"
     },
     "output_type": "display_data"
    }
   ],
   "source": [
    "%pylab inline\n",
    "import matplotlib.pyplot as plt\n",
    "import matplotlib.image as mpimg\n",
    "img2=mpimg.imread('QGIS GRID.png')\n",
    "imgplot = plt.imshow(img2)\n",
    "plt.show()"
   ]
  },
  {
   "cell_type": "code",
   "execution_count": 14,
   "metadata": {},
   "outputs": [
    {
     "data": {
      "text/plain": [
       "<matplotlib.axes._subplots.AxesSubplot at 0x1b8cea8a390>"
      ]
     },
     "execution_count": 14,
     "metadata": {},
     "output_type": "execute_result"
    },
    {
     "data": {
      "image/png": "[encoded data removed]",
      "text/plain": [
       "<Figure size 432x288 with 1 Axes>"
      ]
     },
     "metadata": {
      "needs_background": "light"
     },
     "output_type": "display_data"
    }
   ],
   "source": [
    "#intersected Grid_coordinates_moved.shp with Selectdeelgebied.shp and then calculating the areas of each area including \n",
    "#those that were sliced by the grid\n",
    "\n",
    "intersection=gpd.read_file(\"final_intersection.shp\")\n",
    "hist_rain_total = pd.read_csv('rain_timeseries/rainfall_ts_combined.csv', sep=',')\n",
    "intersection # FID here tells us which cell to use from the knmi data/grid starting at 0 and \n",
    "#ending at 47 (6x8 cells)\n",
    "intersection.plot()"
   ]
  },
  {
   "cell_type": "markdown",
   "metadata": {},
   "source": [
    "# Made a function that cleans the file, loads it to a dataframe, selects correct cells and multiplies the cell by the area with the corresponding FID"
   ]
  },
  {
   "cell_type": "code",
   "execution_count": 13,
   "metadata": {
    "scrolled": true
   },
   "outputs": [],
   "source": [
    "import pandas as pd\n",
    "import shapefile\n",
    "import geopandas as gpd\n",
    "from matplotlib import pyplot as plt\n",
    "import seaborn as sns\n",
    "import datetime\n",
    "from shapely.geometry import Polygon\n",
    "import numpy as np\n",
    "\n",
    "#opening an .asc file as 2d array\n",
    "def clean_file(file):\n",
    "    array2D = []\n",
    "    with open(file) as f:\n",
    "        for line in f.readlines()[7:]:\n",
    "                array2D.append(line.split(' '))\n",
    "\n",
    "    #load 2d array into a dataframe, string values in each cell\n",
    "    knmi = pd.DataFrame(array2D)\n",
    "\n",
    "    # clean the file, remove spaces, and add longitutde and latitude as index and column names\n",
    "    knmi = knmi.drop(knmi.columns[0], axis = 1)\n",
    "    knmi.columns = np.arange(-0.018500000000, 11.0815, 0.037)\n",
    "\n",
    "    # good amount of columns (300)\n",
    "    knmi = knmi.replace('\\n',' ', regex=True) \n",
    "    latitude = np.arange(49.0115, 55.9115, 0.023)\n",
    "    latitude_index = latitude[::-1]\n",
    "    knmi = knmi.set_index(latitude_index)\n",
    "\n",
    "    # Now lets select the the longitutde and latitude we need (we eventually used this for the grid)\n",
    "    knmi = knmi.loc[:, 5.0405:5.3105]\n",
    "    knmi = knmi.loc[51.7486:51.625]\n",
    "    \n",
    "    # Negative values are errors in data, changing data to floats and setting negatives to 0\n",
    "    knmi = knmi.astype(float)\n",
    "    knmi = knmi[knmi >= 0]\n",
    "    knmi.fillna(0, inplace=True)\n",
    "    timestamps = file.split(\"_\")\n",
    "    eind = timestamps[-1]\n",
    "    eind = eind[:-4]\n",
    "    begin = timestamps[-2]\n",
    "    \n",
    "    # now lets make a list of all the values, indexed from 0-47 which corresponds to intersection['FID']\n",
    "    # intersection['FID'] also is indexed 0-47\n",
    "    r = []\n",
    "    shape = list(knmi.shape)\n",
    "    for row in range(0,shape[0]):\n",
    "        for col in range(0, shape[1]):\n",
    "            r.append(float(knmi.iloc[row,col]))\n",
    "\n",
    "    # taking a subset of each unique area code, and multiplying them by the corresponding grid cell in the list (r)\n",
    "    # then we sum them up, since we wanted to get the total rainfall of each area but the grid divided it into multiple rainfall data\n",
    "    intersection=gpd.read_file(\"C:/Users/20172648/Desktop/sewer_data/final_intersection.shp\")\n",
    "    rainfall = []\n",
    "    rgdident = []\n",
    "    naamrgd = []\n",
    "    measurement_begin = []\n",
    "    measurement_eind = []\n",
    "    for i in intersection['RGDIDENT'].unique():\n",
    "        subset = intersection[intersection['RGDIDENT']== i] #make a subset df for each unique area code\n",
    "        total = 0\n",
    "        for index, row in subset.iterrows():\n",
    "            ID = row['FID']\n",
    "            x = row['Area'] * r[ID]/1000 # times the corresponding cell from knmi rainfall predictions\n",
    "            code = row['RGDIDENT']\n",
    "            total = total + x # total rain for the area\n",
    "        rainfall.append(total)\n",
    "        rgdident.append(i)\n",
    "        naamrgd.append(subset['NAAMRGD'].unique())\n",
    "        measurement_begin.append(begin)\n",
    "        measurement_eind.append(eind)\n",
    "    dict_df = {\"Rainfall\": rainfall, \"RGDIDENT\": rgdident, \"NAAMRGD\": naamrgd, 'measurement_begin': measurement_begin, \"measurement_eind\": measurement_eind}\n",
    "    knmi_df_new = pd.DataFrame(data=dict_df)\n",
    "    \n",
    "    return knmi_df_new\n",
    "\n"
   ]
  },
  {
   "cell_type": "markdown",
   "metadata": {},
   "source": [
    "# Load the function for each file and add them to 1 big csv"
   ]
  },
  {
   "cell_type": "code",
   "execution_count": null,
   "metadata": {},
   "outputs": [],
   "source": [
    "#attempt to make a csv from each asc file\n",
    "folder = 'rain_grid_prediction'\n",
    "#put your notebook in the sewer data folder\n",
    "import pandas as pd\n",
    "import os\n",
    "\n",
    "current_dir = os.path.dirname(os.path.abspath(\"__file__\"))\n",
    "    \n",
    "folder_path = current_dir + \"\\\\\" + folder\n",
    "    \n",
    "script_test = 0\n",
    "    \n",
    "if os.path.exists(folder_path):\n",
    "    df = pd.DataFrame()   \n",
    "    script_test = 1\n",
    "        \n",
    "    for file in os.listdir(folder_path):\n",
    "        if 'overall' not in file:\n",
    "            print('converting: ' + file + ' to dataframe')\n",
    "            file = folder_path + '\\\\' + file\n",
    "            knmi_df_new = clean_file(file)\n",
    "            df_temp = knmi_df_new\n",
    "            df = pd.concat([df, df_temp])\n",
    "\n",
    "df.to_csv(folder_path + '\\\\' + folder + '_overall.csv', index=False, sep=',')\n",
    "\n",
    "if script_test != 1:\n",
    "    print('No folder with data found to extract. Check script file location.')\n",
    "    \n",
    "else:\n",
    "    print('CSV conversion succesful.')"
   ]
  },
  {
   "cell_type": "code",
   "execution_count": 3,
   "metadata": {},
   "outputs": [
    {
     "data": {
      "text/html": [
       "<div>\n",
       "<style scoped>\n",
       "    .dataframe tbody tr th:only-of-type {\n",
       "        vertical-align: middle;\n",
       "    }\n",
       "\n",
       "    .dataframe tbody tr th {\n",
       "        vertical-align: top;\n",
       "    }\n",
       "\n",
       "    .dataframe thead th {\n",
       "        text-align: right;\n",
       "    }\n",
       "</style>\n",
       "<table border=\"1\" class=\"dataframe\">\n",
       "  <thead>\n",
       "    <tr style=\"text-align: right;\">\n",
       "      <th></th>\n",
       "      <th>Rainfall</th>\n",
       "      <th>RGDIDENT</th>\n",
       "      <th>NAAMRGD</th>\n",
       "      <th>measurement_begin</th>\n",
       "      <th>measurement_eind</th>\n",
       "    </tr>\n",
       "  </thead>\n",
       "  <tbody>\n",
       "    <tr>\n",
       "      <th>0</th>\n",
       "      <td>24.875805</td>\n",
       "      <td>HER-HER-ORP</td>\n",
       "      <td>['Geb. 8 Orthenpoort']</td>\n",
       "      <td>2018-01-02T00h00m00s</td>\n",
       "      <td>2018-01-02T01h00m00s</td>\n",
       "    </tr>\n",
       "    <tr>\n",
       "      <th>1</th>\n",
       "      <td>3.737282</td>\n",
       "      <td>HER-HER-TOL</td>\n",
       "      <td>['geb. 6c Carolushof']</td>\n",
       "      <td>2018-01-02T00h00m00s</td>\n",
       "      <td>2018-01-02T01h00m00s</td>\n",
       "    </tr>\n",
       "    <tr>\n",
       "      <th>2</th>\n",
       "      <td>18.002960</td>\n",
       "      <td>HEU-DRU-WAR</td>\n",
       "      <td>['Wartsila']</td>\n",
       "      <td>2018-01-02T00h00m00s</td>\n",
       "      <td>2018-01-02T01h00m00s</td>\n",
       "    </tr>\n",
       "    <tr>\n",
       "      <th>3</th>\n",
       "      <td>77.505724</td>\n",
       "      <td>HER-HER-SVL</td>\n",
       "      <td>['Sportpark de Vliert(Sportiom)']</td>\n",
       "      <td>2018-01-02T00h00m00s</td>\n",
       "      <td>2018-01-02T01h00m00s</td>\n",
       "    </tr>\n",
       "    <tr>\n",
       "      <th>4</th>\n",
       "      <td>14.712031</td>\n",
       "      <td>HER-HER-VUG</td>\n",
       "      <td>['Geb. 12 Vughterpoort']</td>\n",
       "      <td>2018-01-02T00h00m00s</td>\n",
       "      <td>2018-01-02T01h00m00s</td>\n",
       "    </tr>\n",
       "  </tbody>\n",
       "</table>\n",
       "</div>"
      ],
      "text/plain": [
       "    Rainfall     RGDIDENT                            NAAMRGD  \\\n",
       "0  24.875805  HER-HER-ORP             ['Geb. 8 Orthenpoort']   \n",
       "1   3.737282  HER-HER-TOL             ['geb. 6c Carolushof']   \n",
       "2  18.002960  HEU-DRU-WAR                       ['Wartsila']   \n",
       "3  77.505724  HER-HER-SVL  ['Sportpark de Vliert(Sportiom)']   \n",
       "4  14.712031  HER-HER-VUG           ['Geb. 12 Vughterpoort']   \n",
       "\n",
       "      measurement_begin      measurement_eind  \n",
       "0  2018-01-02T00h00m00s  2018-01-02T01h00m00s  \n",
       "1  2018-01-02T00h00m00s  2018-01-02T01h00m00s  \n",
       "2  2018-01-02T00h00m00s  2018-01-02T01h00m00s  \n",
       "3  2018-01-02T00h00m00s  2018-01-02T01h00m00s  \n",
       "4  2018-01-02T00h00m00s  2018-01-02T01h00m00s  "
      ]
     },
     "execution_count": 3,
     "metadata": {},
     "output_type": "execute_result"
    }
   ],
   "source": [
    "s = pd.read_csv('rain_grid_prediction/rain_grid_prediction_overall.csv')\n",
    "s.head()"
   ]
  },
  {
   "cell_type": "markdown",
   "metadata": {},
   "source": [
    "# IGNORE BELOW"
   ]
  },
  {
   "cell_type": "code",
   "execution_count": null,
   "metadata": {},
   "outputs": [],
   "source": [
    "pumpdata_150 = pd.read_csv(\"data_pump/RG8150/_overall.csv\", sep=';', decimal=',')\n",
    "pump150_clean = pumpdata_150[pumpdata_150['DataQuality'] == 'Good']"
   ]
  },
  {
   "cell_type": "code",
   "execution_count": null,
   "metadata": {
    "scrolled": true
   },
   "outputs": [],
   "source": [
    "pump150_clean['datetime'] = pd.to_datetime(pump150_clean['TimeStamp'])\n",
    "pump150_clean = pump150_clean.set_index('datetime')\n",
    "pump150_clean.head()"
   ]
  },
  {
   "cell_type": "code",
   "execution_count": null,
   "metadata": {
    "scrolled": true
   },
   "outputs": [],
   "source": [
    "randomday = pump150_clean['2018-06-25']\n",
    "randomday"
   ]
  },
  {
   "cell_type": "code",
   "execution_count": null,
   "metadata": {
    "scrolled": true
   },
   "outputs": [],
   "source": [
    "import pandas as pd\n",
    "import os\n",
    "import seaborn as sns\n",
    "import matplotlib.pyplot as plt\n",
    "import calendar\n",
    "sns.set(rc={'figure.figsize':(40, 18)})\n",
    "days = list(calendar.day_name)\n",
    "data = pump150_clean.loc[pump150_clean['Tagname'].str.contains(\"Debietmeting\"),]\n",
    "data_mean = pump150_clean['Value'].resample('D').mean()\n",
    "mean_daily_flow = data_mean.to_frame()\n",
    "ax = mean_daily_flow.plot()\n",
    "ax.set_xlabel('Time', fontsize=30)\n",
    "ax.set_ylabel('Mean Flow Cubic Metre', fontsize=30)\n",
    "ax"
   ]
  },
  {
   "cell_type": "code",
   "execution_count": null,
   "metadata": {},
   "outputs": [],
   "source": []
  },
  {
   "cell_type": "code",
   "execution_count": null,
   "metadata": {},
   "outputs": [],
   "source": [
    "data['Value'].mean()"
   ]
  },
  {
   "cell_type": "code",
   "execution_count": null,
   "metadata": {},
   "outputs": [],
   "source": [
    "data['TimeStamp'] = pd.to_datetime(data['TimeStamp'])\n",
    "data['weekday'] = data[\"TimeStamp\"].dt.dayofweek"
   ]
  },
  {
   "cell_type": "code",
   "execution_count": null,
   "metadata": {},
   "outputs": [],
   "source": [
    "for i in range(7):\n",
    "    plt.figure()\n",
    "    df = data[data['weekday']==i]\n",
    "    df = df.groupby(df.index.hour)['Value'].mean()\n",
    "    df.plot(lw=2)\n",
    "    plt.xlabel('hour', fontsize=24)\n",
    "    plt.ylabel(\"debietingmeting\", fontsize=22)\n",
    "    plt.rc('xtick',labelsize=14)\n",
    "    plt.rc('ytick',labelsize=14)\n",
    "    plt.title('24 hours of ' + \"Debiemeting\" + ' ' + \"RG8150\" + ' ' + days[i],\n",
    "        size=26)\n",
    "    plt.savefig('24 hours of ' + \"Debietmeting\" + ' ' + \"RG8150\" + ' ' + \\\n",
    "        days[i] + '.png')"
   ]
  },
  {
   "cell_type": "code",
   "execution_count": null,
   "metadata": {},
   "outputs": [],
   "source": [
    "mean_day = data[data['weekday']==6]\n",
    "mean_day['Value'].mean()"
   ]
  },
  {
   "cell_type": "code",
   "execution_count": null,
   "metadata": {},
   "outputs": [],
   "source": [
    "data['month'] = data[\"TimeStamp\"].dt.month\n",
    "data.head()"
   ]
  },
  {
   "cell_type": "markdown",
   "metadata": {},
   "source": [
    "### New data, objective 2"
   ]
  },
  {
   "cell_type": "code",
   "execution_count": null,
   "metadata": {},
   "outputs": [],
   "source": [
    "import pandas as pd"
   ]
  },
  {
   "cell_type": "code",
   "execution_count": null,
   "metadata": {
    "scrolled": false
   },
   "outputs": [],
   "source": [
    "raindf = pd.read_csv('rain_timeseries/rain_timeseries_overall.csv', sep=',')\n",
    "#new_header = raindf.iloc[1] #grab the first row for the header\n",
    "#raindf = raindf[2:]\n",
    "#raindf.columns = new_header\n",
    "raindf.head()\n",
    "#new_header"
   ]
  },
  {
   "cell_type": "code",
   "execution_count": null,
   "metadata": {},
   "outputs": [],
   "source": [
    "raindata_bok_clean = raindf[['Bokhoven', 'Begin', 'Eind']] #according to data_overview_rzwi_denbosch  this one is connected to RG8180_q0\n",
    "raindata_bok_clean['Begin'] = pd.to_datetime(raindata_bok_clean['Begin'], errors='ignore')\n",
    "raindata_bok_clean['Eind'] = pd.to_datetime(raindata_bok_clean['Eind'], errors='ignore')\n",
    "raindata_bok_clean = raindata_bok_clean.set_index('Eind')\n",
    "\n",
    "pump_bok = pd.read_csv(\"data_pump\\RG8180_Q0\\RG8180_Q0_overall.csv\")\n",
    "pump_bok_clean = pump_bok.loc[pump_bok['historianTagnummer'].str.contains(\"Debietmeting\"),]\n",
    "pump_bok_clean['begin'] = pd.to_datetime(pump_bok_clean['datumBeginMeting'], errors='ignore')\n",
    "pump_bok_clean['eind'] = pd.to_datetime(pump_bok_clean['datumEindeMeting'], errors='ignore')\n",
    "pump_bok_clean['index'] = pump_bok_clean['eind']\n",
    "pump_bok_clean = pump_bok_clean.set_index(\"index\")"
   ]
  },
  {
   "cell_type": "code",
   "execution_count": null,
   "metadata": {
    "scrolled": true
   },
   "outputs": [],
   "source": [
    "#Check if the data is indeed 1 min apart and there are no gaps or bad data.\n",
    "\n",
    "#its clean but the rain data has some measurements over an hour and some over 5 mins\n",
    "\n",
    "import time\n",
    "import datetime as dt\n",
    "for index, row in pump_bok_clean.iterrows():\n",
    "    s = row['eind']\n",
    "    d = row['begin']\n",
    "    x = s - d\n",
    "    duration = x.total_seconds()\n",
    "    if duration != 60:\n",
    "        print(\"this line is bad:\", index)"
   ]
  },
  {
   "cell_type": "code",
   "execution_count": null,
   "metadata": {},
   "outputs": [],
   "source": [
    "raindata_bok_clean= raindata_bok_clean.sort_values(by='Eind')\n",
    "aq1 = raindata_bok_clean['2018-01-01 00:00:00' :'2019-08-24 00:00:00']"
   ]
  },
  {
   "cell_type": "code",
   "execution_count": null,
   "metadata": {
    "scrolled": false
   },
   "outputs": [],
   "source": [
    "pump_bok_clean = pump_bok_clean.sort_values(by='index')\n",
    "# just need the rain data 2019-08-24 00:00:00 - 2018-01-01 00:01:00\t"
   ]
  },
  {
   "cell_type": "code",
   "execution_count": null,
   "metadata": {},
   "outputs": [],
   "source": [
    "# next command ensures that plots appear inside the notebook\n",
    "%matplotlib inline\n",
    "import matplotlib as mpl\n",
    "import matplotlib.pyplot as plt\n",
    "import seaborn as sns  # also improves the look of plots\n",
    "sns.set()  # set Seaborn defaults\n",
    "plt.rcParams['figure.figsize'] = 20, 10  # default hor./vert. size of plots, in inches\n",
    "plt.rcParams['lines.markeredgewidth'] = 1  # to fix issue with seaborn box plots; needed after import seaborn"
   ]
  },
  {
   "cell_type": "code",
   "execution_count": null,
   "metadata": {},
   "outputs": [],
   "source": [
    "daily_flow_bok = pump_bok_clean['hstWaarde'].resample('D').mean()\n",
    "ax = aq1['Bokhoven'].plot()\n",
    "daily_flow_bok.plot(ax=ax)\n",
    "ax.legend(['Rain water', 'Flow'])"
   ]
  },
  {
   "cell_type": "markdown",
   "metadata": {},
   "source": [
    "## Over een maand"
   ]
  },
  {
   "cell_type": "code",
   "execution_count": null,
   "metadata": {},
   "outputs": [],
   "source": [
    "rain_one_month = raindata_bok_clean['2018-01-01 00:00:00' :'2018-02-01 00:00:00']\n",
    "pump_bok_one_month = pump_bok_clean['2018-01-01 00:00:00' :'2018-02-01 00:00:00']\n",
    "daily_flow_one_month = pump_bok_one_month['hstWaarde'].resample('D').mean()\n",
    "ax = rain_one_month['Bokhoven'].plot()\n",
    "daily_flow_one_month.plot(ax=ax)\n",
    "ax.legend(['Rain water', 'Flow'])"
   ]
  },
  {
   "cell_type": "markdown",
   "metadata": {},
   "source": [
    "## open knmi en match het op de echte gemete data\n",
    "## hoe betrouwbaar is de voorspelling\n",
    "## voor iedere locatie kijken en linken naar de pomp"
   ]
  },
  {
   "cell_type": "code",
   "execution_count": null,
   "metadata": {},
   "outputs": [],
   "source": []
  },
  {
   "cell_type": "code",
   "execution_count": null,
   "metadata": {
    "scrolled": false
   },
   "outputs": [],
   "source": []
  },
  {
   "cell_type": "code",
   "execution_count": null,
   "metadata": {},
   "outputs": [],
   "source": []
  },
  {
   "cell_type": "code",
   "execution_count": null,
   "metadata": {},
   "outputs": [],
   "source": []
  },
  {
   "cell_type": "code",
   "execution_count": null,
   "metadata": {},
   "outputs": [],
   "source": []
  }
 ],
 "metadata": {
  "kernelspec": {
   "display_name": "Python 3",
   "language": "python",
   "name": "python3"
  },
  "language_info": {
   "codemirror_mode": {
    "name": "ipython",
    "version": 3
   },
   "file_extension": ".py",
   "mimetype": "text/x-python",
   "name": "python",
   "nbconvert_exporter": "python",
   "pygments_lexer": "ipython3",
   "version": "3.6.8"
  }
 },
 "nbformat": 4,
 "nbformat_minor": 2
}
